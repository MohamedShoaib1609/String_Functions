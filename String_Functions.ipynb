{
 "cells": [
  {
   "cell_type": "markdown",
   "id": "1697985d-9c13-4620-a021-823378bae723",
   "metadata": {},
   "source": [
    "# String Functions( 7-11-2024)"
   ]
  },
  {
   "cell_type": "code",
   "execution_count": 23,
   "id": "02a34d23-49b8-4b90-b698-8ce7388646b0",
   "metadata": {},
   "outputs": [
    {
     "name": "stdout",
     "output_type": "stream",
     "text": [
      "Hello there!\n",
      "How are you?\n",
      "I'm doing fine.\n"
     ]
    }
   ],
   "source": [
    "print(\"Hello there!\\nHow are you?\\nI'm doing fine.\")"
   ]
  },
  {
   "cell_type": "code",
   "execution_count": 25,
   "id": "1b428106-f366-4271-b72d-f48addd5b30d",
   "metadata": {},
   "outputs": [
    {
     "name": "stdout",
     "output_type": "stream",
     "text": [
      "\n",
      "        Dear Shah\n",
      "\n",
      "     hope every thing is fit and fine \n",
      "     I have noticed that you have not been\n",
      "     visiting to institue form the past 3 days\n",
      "     hope your fine......\n",
      "                  Your sincierly\n",
      "                   mahindar\n",
      "        \n"
     ]
    }
   ],
   "source": [
    "print('''\n",
    "        Dear Shah\n",
    "\n",
    "     hope every thing is fit and fine \n",
    "     I have noticed that you have not been\n",
    "     visiting to institue form the past 3 days\n",
    "     hope your fine......\n",
    "                  Your sincierly\n",
    "                   mahindar\n",
    "        ''')\n"
   ]
  },
  {
   "cell_type": "markdown",
   "id": "a4fe6ae7-79a1-4c73-8a61-e7c06471f9b9",
   "metadata": {},
   "source": [
    "# The in and not in operator"
   ]
  },
  {
   "cell_type": "code",
   "execution_count": 28,
   "id": "7b8f1fe2-cece-4aa0-be3c-335786280f92",
   "metadata": {},
   "outputs": [
    {
     "data": {
      "text/plain": [
       "True"
      ]
     },
     "execution_count": 28,
     "metadata": {},
     "output_type": "execute_result"
    }
   ],
   "source": [
    "'Hello' in 'HelloHyderabad'"
   ]
  },
  {
   "cell_type": "code",
   "execution_count": 30,
   "id": "43d4415b-b8f7-4c88-9ada-54884c9c8f81",
   "metadata": {},
   "outputs": [
    {
     "data": {
      "text/plain": [
       "True"
      ]
     },
     "execution_count": 30,
     "metadata": {},
     "output_type": "execute_result"
    }
   ],
   "source": [
    "'hi' in 'hindi'"
   ]
  },
  {
   "cell_type": "code",
   "execution_count": 32,
   "id": "5f237c4a-bee8-40b1-bd1d-02d02e91b87a",
   "metadata": {},
   "outputs": [
    {
     "data": {
      "text/plain": [
       "False"
      ]
     },
     "execution_count": 32,
     "metadata": {},
     "output_type": "execute_result"
    }
   ],
   "source": [
    "'hello' in 'abcdef'"
   ]
  },
  {
   "cell_type": "code",
   "execution_count": 34,
   "id": "246ae673-8c3d-47a1-98d1-8da43513e84a",
   "metadata": {},
   "outputs": [
    {
     "data": {
      "text/plain": [
       "True"
      ]
     },
     "execution_count": 34,
     "metadata": {},
     "output_type": "execute_result"
    }
   ],
   "source": [
    "'hello'not in 'hiii'"
   ]
  },
  {
   "cell_type": "code",
   "execution_count": 36,
   "id": "63d7c167-7f22-4362-b54d-97b1c17bfe19",
   "metadata": {},
   "outputs": [
    {
     "data": {
      "text/plain": [
       "True"
      ]
     },
     "execution_count": 36,
     "metadata": {},
     "output_type": "execute_result"
    }
   ],
   "source": [
    "'hiii' not in 'hello'"
   ]
  },
  {
   "cell_type": "code",
   "execution_count": 38,
   "id": "5b0e42b3-753a-40f4-82ca-5d1ceafc0180",
   "metadata": {},
   "outputs": [
    {
     "data": {
      "text/plain": [
       "False"
      ]
     },
     "execution_count": 38,
     "metadata": {},
     "output_type": "execute_result"
    }
   ],
   "source": [
    "'hello' not in' hello world'"
   ]
  },
  {
   "cell_type": "markdown",
   "id": "de36fa17-b966-4c3f-bf1c-4baef0b0c86a",
   "metadata": {},
   "source": [
    "# Conversion of Lower case letters to Upper case and Capitalizing all words"
   ]
  },
  {
   "cell_type": "code",
   "execution_count": 22,
   "id": "9c075fc3-a841-4a88-a4ec-597d7817ab9c",
   "metadata": {},
   "outputs": [
    {
     "data": {
      "text/plain": [
       "'HELLO Am MoHAMMED kHAJa'"
      ]
     },
     "execution_count": 22,
     "metadata": {},
     "output_type": "execute_result"
    }
   ],
   "source": [
    "s=\"hello aM mOhammed KhajA\"\n",
    "s.swapcase()"
   ]
  },
  {
   "cell_type": "code",
   "execution_count": 43,
   "id": "01f8e4af-8996-4164-a9e4-9b4365dac6cc",
   "metadata": {},
   "outputs": [
    {
     "data": {
      "text/plain": [
       "'HELLO HOW ARE YOU ALL'"
      ]
     },
     "execution_count": 43,
     "metadata": {},
     "output_type": "execute_result"
    }
   ],
   "source": [
    "greet=\"hello how are you all\"\n",
    "greet.upper()"
   ]
  },
  {
   "cell_type": "code",
   "execution_count": 47,
   "id": "5f2d7626-ab71-4cfd-9ab5-aeafa0f9e347",
   "metadata": {},
   "outputs": [
    {
     "data": {
      "text/plain": [
       "'THE INSTITUE WILL BE CLOSED TOMORROW'"
      ]
     },
     "execution_count": 47,
     "metadata": {},
     "output_type": "execute_result"
    }
   ],
   "source": [
    "a=\"The institue will be closed tomorrow\"\n",
    "a.upper()"
   ]
  },
  {
   "cell_type": "code",
   "execution_count": 13,
   "id": "158e4e76-19ef-4e22-a006-bd10f64208d4",
   "metadata": {},
   "outputs": [
    {
     "data": {
      "text/plain": [
       "'Hello'"
      ]
     },
     "execution_count": 13,
     "metadata": {},
     "output_type": "execute_result"
    }
   ],
   "source": [
    "c=\"hello\"\n",
    "c.capitalize()"
   ]
  },
  {
   "cell_type": "code",
   "execution_count": 49,
   "id": "3fae109b-6160-4925-a295-b84dfb2a6dc3",
   "metadata": {},
   "outputs": [
    {
     "data": {
      "text/plain": [
       "' THE WEATHER IS WARM TODAY'"
      ]
     },
     "execution_count": 49,
     "metadata": {},
     "output_type": "execute_result"
    }
   ],
   "source": [
    "b=' the weather is warm today'\n",
    "b.upper()"
   ]
  },
  {
   "cell_type": "code",
   "execution_count": 15,
   "id": "9b605eb7-a902-4db3-8197-d02062fd30a0",
   "metadata": {},
   "outputs": [
    {
     "data": {
      "text/plain": [
       "'I Am Mohomammed'"
      ]
     },
     "execution_count": 15,
     "metadata": {},
     "output_type": "execute_result"
    }
   ],
   "source": [
    "c=\"I am mohomammed\"\n",
    "c.title()"
   ]
  },
  {
   "cell_type": "markdown",
   "id": "5806f5e1-3f2b-4f69-a191-ef5041b5d8bc",
   "metadata": {},
   "source": [
    "# Join() and Split()"
   ]
  },
  {
   "cell_type": "code",
   "execution_count": 52,
   "id": "5b8387e3-6570-4da4-8594-0be6913c70d6",
   "metadata": {},
   "outputs": [
    {
     "data": {
      "text/plain": [
       "'mynameismohammedshoaib'"
      ]
     },
     "execution_count": 52,
     "metadata": {},
     "output_type": "execute_result"
    }
   ],
   "source": [
    "''.join(['my', 'name', 'is', 'mohammed', 'shoaib'])"
   ]
  },
  {
   "cell_type": "code",
   "execution_count": 54,
   "id": "feb21d2e-8df0-4664-a5f7-61ca07b14412",
   "metadata": {},
   "outputs": [
    {
     "data": {
      "text/plain": [
       "'my__name__is__mohammed__shoaib'"
      ]
     },
     "execution_count": 54,
     "metadata": {},
     "output_type": "execute_result"
    }
   ],
   "source": [
    "'__'.join(['my', 'name', 'is', 'mohammed', 'shoaib'])"
   ]
  },
  {
   "cell_type": "code",
   "execution_count": 56,
   "id": "0ec85d39-4fd7-450b-99bc-4d4c94174239",
   "metadata": {},
   "outputs": [
    {
     "data": {
      "text/plain": [
       "'My__Name__Is__Mohammed__Shoaib'"
      ]
     },
     "execution_count": 56,
     "metadata": {},
     "output_type": "execute_result"
    }
   ],
   "source": [
    "'__'.join(['my', 'name', 'is', 'mohammed', 'shoaib']).title()"
   ]
  },
  {
   "cell_type": "code",
   "execution_count": 36,
   "id": "3b5e2747-5aa7-44b3-a509-1d98a9faf661",
   "metadata": {},
   "outputs": [],
   "source": [
    " \"my name is mohammed shoaib\".split() "
   ]
  },
  {
   "cell_type": "code",
   "execution_count": 9,
   "id": "b26ff66e-d4cb-48ba-a083-811edd630724",
   "metadata": {},
   "outputs": [
    {
     "data": {
      "text/plain": [
       "['', 'y na', 'e is ', 'oha', '', 'ed shoaib']"
      ]
     },
     "execution_count": 9,
     "metadata": {},
     "output_type": "execute_result"
    }
   ],
   "source": [
    "\"my name is mohammed shoaib\".split('m') "
   ]
  },
  {
   "cell_type": "code",
   "execution_count": 11,
   "id": "b47ebcf3-103a-4e8a-9c2e-f3df6d5c26ea",
   "metadata": {},
   "outputs": [
    {
     "data": {
      "text/plain": [
       "['my n', 'me is moh', 'mmed sho', 'ib']"
      ]
     },
     "execution_count": 11,
     "metadata": {},
     "output_type": "execute_result"
    }
   ],
   "source": [
    "\"my name is mohammed shoaib\".split('a') #divides the sentence from the leter 'a'"
   ]
  },
  {
   "cell_type": "code",
   "execution_count": 13,
   "id": "210c4365-da99-490e-8f11-faa212acdd21",
   "metadata": {},
   "outputs": [
    {
     "data": {
      "text/plain": [
       "['', 'My', '', 'name', 'is', '', 'Simon']"
      ]
     },
     "execution_count": 13,
     "metadata": {},
     "output_type": "execute_result"
    }
   ],
   "source": [
    " ' My  name is  Simon'.split(' ')"
   ]
  },
  {
   "cell_type": "code",
   "execution_count": 21,
   "id": "cef45a63-76ff-41b0-9011-47be3e86eba5",
   "metadata": {},
   "outputs": [
    {
     "data": {
      "text/plain": [
       "'My Name Is Mohammed Shoaib'"
      ]
     },
     "execution_count": 21,
     "metadata": {},
     "output_type": "execute_result"
    }
   ],
   "source": [
    "\"my name is mohammed shoaib\".title()# capitalize all titles"
   ]
  },
  {
   "cell_type": "code",
   "execution_count": 23,
   "id": "01a7d5c4-150b-4b15-98c8-fd83db71fa01",
   "metadata": {},
   "outputs": [
    {
     "data": {
      "text/plain": [
       "'           hello mumbai            '"
      ]
     },
     "execution_count": 23,
     "metadata": {},
     "output_type": "execute_result"
    }
   ],
   "source": [
    "m='           hello mumbai            '\n",
    "m"
   ]
  },
  {
   "cell_type": "code",
   "execution_count": 9,
   "id": "cd2fcc9e-601d-4475-8642-0e04b5bc9589",
   "metadata": {},
   "outputs": [
    {
     "ename": "NameError",
     "evalue": "name 'm' is not defined",
     "output_type": "error",
     "traceback": [
      "\u001b[1;31m---------------------------------------------------------------------------\u001b[0m",
      "\u001b[1;31mNameError\u001b[0m                                 Traceback (most recent call last)",
      "Cell \u001b[1;32mIn[9], line 1\u001b[0m\n\u001b[1;32m----> 1\u001b[0m a\u001b[38;5;241m=\u001b[39mm\u001b[38;5;241m.\u001b[39mstrip()\n",
      "\u001b[1;31mNameError\u001b[0m: name 'm' is not defined"
     ]
    }
   ],
   "source": [
    "m.strip()#reduces whitespace "
   ]
  },
  {
   "cell_type": "code",
   "execution_count": 29,
   "id": "10f4fd40-5e53-4bef-84c4-9d8d930535cb",
   "metadata": {},
   "outputs": [
    {
     "data": {
      "text/plain": [
       "'hello mumbai            '"
      ]
     },
     "execution_count": 29,
     "metadata": {},
     "output_type": "execute_result"
    }
   ],
   "source": [
    "m.lstrip()#cutts left space"
   ]
  },
  {
   "cell_type": "code",
   "execution_count": 31,
   "id": "8fba95a7-f0b2-4010-bed3-77db1d36cb17",
   "metadata": {},
   "outputs": [
    {
     "data": {
      "text/plain": [
       "'           hello mumbai'"
      ]
     },
     "execution_count": 31,
     "metadata": {},
     "output_type": "execute_result"
    }
   ],
   "source": [
    "m.rstrip()#cutts right space"
   ]
  },
  {
   "cell_type": "markdown",
   "id": "23791e99-27b8-446e-8caa-f68526d26b97",
   "metadata": {},
   "source": [
    "# Replace Method"
   ]
  },
  {
   "cell_type": "code",
   "execution_count": 60,
   "id": "aeafeb83-2b49-4252-905b-fea2fb316344",
   "metadata": {},
   "outputs": [
    {
     "data": {
      "text/plain": [
       "'Hello Hydreabad'"
      ]
     },
     "execution_count": 60,
     "metadata": {},
     "output_type": "execute_result"
    }
   ],
   "source": [
    "txt=\"hello hydreabad\"\n",
    "txt.replace(\"h\",\"H\")"
   ]
  },
  {
   "cell_type": "code",
   "execution_count": 66,
   "id": "c7a930e1-f30f-4a89-bafa-cb4ddcfbff5a",
   "metadata": {},
   "outputs": [
    {
     "ename": "AttributeError",
     "evalue": "'tuple' object has no attribute 'replace'",
     "output_type": "error",
     "traceback": [
      "\u001b[1;31m---------------------------------------------------------------------------\u001b[0m",
      "\u001b[1;31mAttributeError\u001b[0m                            Traceback (most recent call last)",
      "Cell \u001b[1;32mIn[66], line 2\u001b[0m\n\u001b[0;32m      1\u001b[0m fruits\u001b[38;5;241m=\u001b[39m(\u001b[38;5;124m'\u001b[39m\u001b[38;5;124mapple\u001b[39m\u001b[38;5;124m'\u001b[39m,\u001b[38;5;124m'\u001b[39m\u001b[38;5;124mbanana\u001b[39m\u001b[38;5;124m'\u001b[39m,\u001b[38;5;124m'\u001b[39m\u001b[38;5;124morange\u001b[39m\u001b[38;5;124m'\u001b[39m)\n\u001b[1;32m----> 2\u001b[0m fruits\u001b[38;5;241m.\u001b[39mreplace(\u001b[38;5;124m'\u001b[39m\u001b[38;5;124mbanana\u001b[39m\u001b[38;5;124m'\u001b[39m,\u001b[38;5;124m'\u001b[39m\u001b[38;5;124mpinapple\u001b[39m\u001b[38;5;124m'\u001b[39m)\n",
      "\u001b[1;31mAttributeError\u001b[0m: 'tuple' object has no attribute 'replace'"
     ]
    }
   ],
   "source": [
    "fruits=('apple','banana','orange')\n",
    "fruits.replace('banana','pinapple')"
   ]
  },
  {
   "cell_type": "code",
   "execution_count": 68,
   "id": "9d501a4d-2719-4936-9333-4792ef44ef58",
   "metadata": {},
   "outputs": [
    {
     "data": {
      "text/plain": [
       "'apple,pinapple,orange'"
      ]
     },
     "execution_count": 68,
     "metadata": {},
     "output_type": "execute_result"
    }
   ],
   "source": [
    "fruits=('apple,banana,orange')\n",
    "fruits.replace('banana','pinapple')"
   ]
  },
  {
   "cell_type": "code",
   "execution_count": 3,
   "id": "ffb5e4f5-c331-49de-8d51-38fea3528ecc",
   "metadata": {},
   "outputs": [
    {
     "data": {
      "text/plain": [
       "'I like bananas, I love eating bananas '"
      ]
     },
     "execution_count": 3,
     "metadata": {},
     "output_type": "execute_result"
    }
   ],
   "source": [
    "sentence='I like apples, I love eating apples '\n",
    "sentence.replace('apples','bananas')"
   ]
  },
  {
   "cell_type": "code",
   "execution_count": null,
   "id": "e970cad6-3631-4aa6-b093-1b2d1dc14088",
   "metadata": {},
   "outputs": [],
   "source": []
  },
  {
   "cell_type": "markdown",
   "id": "9962512f-5c40-4b88-8997-ba185da7a59d",
   "metadata": {},
   "source": [
    "# Padding from NLP model"
   ]
  },
  {
   "cell_type": "code",
   "execution_count": 7,
   "id": "f969e481-a4dc-406f-9faf-e494f42cdb22",
   "metadata": {},
   "outputs": [
    {
     "data": {
      "text/plain": [
       "'0000045'"
      ]
     },
     "execution_count": 7,
     "metadata": {},
     "output_type": "execute_result"
    }
   ],
   "source": [
    "s=\"45\"\n",
    "s1=s.zfill(7)\n",
    "s1"
   ]
  },
  {
   "cell_type": "code",
   "execution_count": 39,
   "id": "7889b724-37f0-41a1-bdc7-b245f889bb3b",
   "metadata": {},
   "outputs": [
    {
     "data": {
      "text/plain": [
       "'hiihiihiihiihiihiihiihiihiihiihiihii'"
      ]
     },
     "execution_count": 39,
     "metadata": {},
     "output_type": "execute_result"
    }
   ],
   "source": [
    "s='hii'\n",
    "s*12"
   ]
  },
  {
   "cell_type": "code",
   "execution_count": 43,
   "id": "84d0ae19-107a-4803-afdc-f4bc66d92b01",
   "metadata": {},
   "outputs": [
    {
     "data": {
      "text/plain": [
       "True"
      ]
     },
     "execution_count": 43,
     "metadata": {},
     "output_type": "execute_result"
    }
   ],
   "source": [
    "s2=\"j\"\n",
    "s2 not in s"
   ]
  },
  {
   "cell_type": "code",
   "execution_count": 47,
   "id": "005d0776-52ea-41d7-9f55-b92713d30a5f",
   "metadata": {},
   "outputs": [
    {
     "data": {
      "text/plain": [
       "'h'"
      ]
     },
     "execution_count": 47,
     "metadata": {},
     "output_type": "execute_result"
    }
   ],
   "source": [
    "s[0]"
   ]
  },
  {
   "cell_type": "code",
   "execution_count": 63,
   "id": "64e3a534-9d87-42c3-8b13-619a7944b63e",
   "metadata": {},
   "outputs": [
    {
     "data": {
      "text/plain": [
       "123"
      ]
     },
     "execution_count": 63,
     "metadata": {},
     "output_type": "execute_result"
    }
   ],
   "source": [
    "my_variable=123\n",
    "my_variable"
   ]
  },
  {
   "cell_type": "code",
   "execution_count": 67,
   "id": "5e301c64-3e01-411e-9500-a0f1fdefc8d8",
   "metadata": {},
   "outputs": [
    {
     "name": "stdout",
     "output_type": "stream",
     "text": [
      "2 1\n"
     ]
    }
   ],
   "source": [
    "x=1\n",
    "y=2\n",
    "x,y=y,x\n",
    "print(x,y)"
   ]
  },
  {
   "cell_type": "code",
   "execution_count": 69,
   "id": "a9eef086-986e-4b4c-b7af-e38b380ca0f8",
   "metadata": {},
   "outputs": [
    {
     "data": {
      "text/plain": [
       "int"
      ]
     },
     "execution_count": 69,
     "metadata": {},
     "output_type": "execute_result"
    }
   ],
   "source": [
    "a=123\n",
    "type(a)"
   ]
  },
  {
   "cell_type": "code",
   "execution_count": 71,
   "id": "37e68718-1e0c-4ae2-ad4d-4f41652084dd",
   "metadata": {},
   "outputs": [
    {
     "data": {
      "text/plain": [
       "2"
      ]
     },
     "execution_count": 71,
     "metadata": {},
     "output_type": "execute_result"
    }
   ],
   "source": [
    "x=5\n",
    "y=2\n",
    "x//y"
   ]
  },
  {
   "cell_type": "code",
   "execution_count": 73,
   "id": "6d929b31-713a-4270-b1ed-d05b39207730",
   "metadata": {},
   "outputs": [
    {
     "name": "stdout",
     "output_type": "stream",
     "text": [
      "{1: 'A', 2: 'E', 3: 'I', 4: 'O'}\n"
     ]
    }
   ],
   "source": [
    "dic = {1: 'A', 2: 'E', 3: 'I'} \n",
    "dic[4] = 'O'\n",
    "print(dic) "
   ]
  },
  {
   "cell_type": "code",
   "execution_count": 75,
   "id": "e5018e66-9a37-4640-a0d4-ff61af2a2698",
   "metadata": {},
   "outputs": [
    {
     "name": "stdout",
     "output_type": "stream",
     "text": [
      "<built-in method pop of list object at 0x000001BA51D5D100>\n"
     ]
    }
   ],
   "source": [
    "list1 = ['a', 'b', 'g', 1, 5] \n",
    "print(list1.pop) "
   ]
  },
  {
   "cell_type": "code",
   "execution_count": 77,
   "id": "ab069a6c-9e0a-4327-a626-305a6f5c744c",
   "metadata": {},
   "outputs": [
    {
     "name": "stdout",
     "output_type": "stream",
     "text": [
      "True "
     ]
    },
    {
     "ename": "ValueError",
     "evalue": "invalid literal for int() with base 10: '4.5'",
     "output_type": "error",
     "traceback": [
      "\u001b[1;31m---------------------------------------------------------------------------\u001b[0m",
      "\u001b[1;31mValueError\u001b[0m                                Traceback (most recent call last)",
      "Cell \u001b[1;32mIn[77], line 2\u001b[0m\n\u001b[0;32m      1\u001b[0m \u001b[38;5;28mprint\u001b[39m(\u001b[38;5;28mstr\u001b[39m(\u001b[38;5;28;01mTrue\u001b[39;00m), end\u001b[38;5;241m=\u001b[39m\u001b[38;5;124m\"\u001b[39m\u001b[38;5;124m \u001b[39m\u001b[38;5;124m\"\u001b[39m) \n\u001b[1;32m----> 2\u001b[0m \u001b[38;5;28mint\u001b[39m(\u001b[38;5;124m\"\u001b[39m\u001b[38;5;124m4.5\u001b[39m\u001b[38;5;124m\"\u001b[39m)\n",
      "\u001b[1;31mValueError\u001b[0m: invalid literal for int() with base 10: '4.5'"
     ]
    }
   ],
   "source": [
    "print(str(True), end=\" \") \n",
    "int(\"4.5\") "
   ]
  },
  {
   "cell_type": "code",
   "execution_count": 79,
   "id": "4ffb3ccf-c952-4cad-aae0-588267f8fc44",
   "metadata": {},
   "outputs": [
    {
     "name": "stdout",
     "output_type": "stream",
     "text": [
      "{1, 3, 4, 5, 6}\n"
     ]
    }
   ],
   "source": [
    "set1 = {1, 5, 6, 4, 3} \n",
    "print(set1)"
   ]
  },
  {
   "cell_type": "code",
   "execution_count": 1,
   "id": "e5e8641c-0356-4ebc-8014-b96cf790a9ca",
   "metadata": {},
   "outputs": [
    {
     "name": "stdout",
     "output_type": "stream",
     "text": [
      "25\n",
      "50\n"
     ]
    }
   ],
   "source": [
    "x = 50 \n",
    "def fun1(): \n",
    "    x = 25 \n",
    "    print(x) \n",
    "     \n",
    "fun1() \n",
    "print(x)"
   ]
  },
  {
   "cell_type": "code",
   "execution_count": 6,
   "id": "f9638a53-3add-418f-abf0-5cb0f62ba43d",
   "metadata": {},
   "outputs": [
    {
     "ename": "UnboundLocalError",
     "evalue": "cannot access local variable 'x' where it is not associated with a value",
     "output_type": "error",
     "traceback": [
      "\u001b[1;31m---------------------------------------------------------------------------\u001b[0m",
      "\u001b[1;31mUnboundLocalError\u001b[0m                         Traceback (most recent call last)",
      "Cell \u001b[1;32mIn[6], line 6\u001b[0m\n\u001b[0;32m      3\u001b[0m     x \u001b[38;5;241m=\u001b[39m x \u001b[38;5;241m+\u001b[39m \u001b[38;5;241m1\u001b[39m \n\u001b[0;32m      4\u001b[0m     \u001b[38;5;28mprint\u001b[39m(x) \n\u001b[1;32m----> 6\u001b[0m myfunc() \n\u001b[0;32m      7\u001b[0m \u001b[38;5;28mprint\u001b[39m(x)\n",
      "Cell \u001b[1;32mIn[6], line 3\u001b[0m, in \u001b[0;36mmyfunc\u001b[1;34m()\u001b[0m\n\u001b[0;32m      2\u001b[0m \u001b[38;5;28;01mdef\u001b[39;00m \u001b[38;5;21mmyfunc\u001b[39m(): \n\u001b[1;32m----> 3\u001b[0m     x \u001b[38;5;241m=\u001b[39m x \u001b[38;5;241m+\u001b[39m \u001b[38;5;241m1\u001b[39m \n\u001b[0;32m      4\u001b[0m     \u001b[38;5;28mprint\u001b[39m(x)\n",
      "\u001b[1;31mUnboundLocalError\u001b[0m: cannot access local variable 'x' where it is not associated with a value"
     ]
    }
   ],
   "source": [
    "x = 75 \n",
    "def myfunc(): \n",
    "    x = x + 1 \n",
    "    print(x) \n",
    "\n",
    "myfunc() \n",
    "print(x) "
   ]
  },
  {
   "cell_type": "code",
   "execution_count": 8,
   "id": "4ccd513e-931f-47a4-a648-e845530bd086",
   "metadata": {},
   "outputs": [
    {
     "name": "stdout",
     "output_type": "stream",
     "text": [
      "<class 'tuple'>\n"
     ]
    }
   ],
   "source": [
    "aTuple = (1, 'Jhon', 1+3j) \n",
    "print(type(aTuple[2:3]))"
   ]
  },
  {
   "cell_type": "code",
   "execution_count": 10,
   "id": "d146c692-2cfb-44a9-b8bf-57a3b823a8f2",
   "metadata": {},
   "outputs": [
    {
     "name": "stdout",
     "output_type": "stream",
     "text": [
      "False True True True\n"
     ]
    }
   ],
   "source": [
    "print(bool(0), bool(3.14159), bool(-3), bool(1.0+1j)) "
   ]
  },
  {
   "cell_type": "code",
   "execution_count": 14,
   "id": "e82c7824-ab81-462a-ad06-0089f8e9156d",
   "metadata": {},
   "outputs": [
    {
     "name": "stdout",
     "output_type": "stream",
     "text": [
      "0\n"
     ]
    }
   ],
   "source": [
    "x=0\n",
    "def func1(): \n",
    "    x = 50 \n",
    "    return x \n",
    "func1() \n",
    "print(x)"
   ]
  },
  {
   "cell_type": "code",
   "execution_count": 30,
   "id": "32772cd9-a933-47fe-a539-dc810f4485e5",
   "metadata": {},
   "outputs": [
    {
     "name": "stdout",
     "output_type": "stream",
     "text": [
      "20\n"
     ]
    }
   ],
   "source": [
    "x = 50 \n",
    "def fun1(): \n",
    "    global x\n",
    "    x=20\n",
    "    # your code to assign global x = 20 \n",
    "fun1() \n",
    "print(x) # it should print 20 "
   ]
  },
  {
   "cell_type": "code",
   "execution_count": 32,
   "id": "d773a37b-96ec-4f3e-ac43-fdc00f64e02b",
   "metadata": {},
   "outputs": [],
   "source": [
    "str1 = 'str1' \n",
    "str1 = \"str1\" \n",
    "str1 = '''str''' \n",
    "str1 = 'str1'"
   ]
  },
  {
   "cell_type": "code",
   "execution_count": 34,
   "id": "462cdddd-964b-4aa4-bb6b-4001de18b8cb",
   "metadata": {},
   "outputs": [
    {
     "name": "stdout",
     "output_type": "stream",
     "text": [
      "str1\n"
     ]
    }
   ],
   "source": [
    "print(str1)"
   ]
  },
  {
   "cell_type": "code",
   "execution_count": 36,
   "id": "8595131d-3910-4aab-a9e6-e0bda700ba07",
   "metadata": {},
   "outputs": [
    {
     "data": {
      "text/plain": [
       "range"
      ]
     },
     "execution_count": 36,
     "metadata": {},
     "output_type": "execute_result"
    }
   ],
   "source": [
    " type(range(5))"
   ]
  },
  {
   "cell_type": "code",
   "execution_count": 38,
   "id": "3320c39b-e451-4e2d-a9de-0e64e2daa03e",
   "metadata": {},
   "outputs": [
    {
     "name": "stdout",
     "output_type": "stream",
     "text": [
      "<class 'set'>\n"
     ]
    }
   ],
   "source": [
    "x = {\"apple\", \"banana\", \"cherry\"}   \n",
    "print(type(x)) "
   ]
  },
  {
   "cell_type": "code",
   "execution_count": 40,
   "id": "7ba9da4e-b325-4d7d-83b5-ea6b61cb8d55",
   "metadata": {},
   "outputs": [
    {
     "name": "stdout",
     "output_type": "stream",
     "text": [
      "<class 'dict'>\n"
     ]
    }
   ],
   "source": [
    "x = {\"name\": \"John\", \"age\": 30}   \n",
    "print(type(x))  "
   ]
  },
  {
   "cell_type": "code",
   "execution_count": 44,
   "id": "a019f7b8-5a7e-40eb-86ef-9dc776cdc22e",
   "metadata": {},
   "outputs": [
    {
     "data": {
      "text/plain": [
       "bool"
      ]
     },
     "execution_count": 44,
     "metadata": {},
     "output_type": "execute_result"
    }
   ],
   "source": [
    "\"x\"\n",
    "x = True   \n",
    "type(x)"
   ]
  },
  {
   "cell_type": "code",
   "execution_count": 46,
   "id": "f31b3160-67e2-434f-b241-8a150f1c7921",
   "metadata": {},
   "outputs": [
    {
     "name": "stdout",
     "output_type": "stream",
     "text": [
      "1020\n"
     ]
    }
   ],
   "source": [
    "x = 10   \n",
    "y = \"20\"   \n",
    "print(str(x) + y)"
   ]
  },
  {
   "cell_type": "code",
   "execution_count": 48,
   "id": "fce62ea8-d619-4a06-8ab2-079149cc6d9a",
   "metadata": {},
   "outputs": [
    {
     "name": "stdout",
     "output_type": "stream",
     "text": [
      "{'b', 'c'}\n"
     ]
    }
   ],
   "source": [
    "x = {\"a\", \"b\", \"c\"}   \n",
    "y = {\"b\", \"c\", \"d\"}   \n",
    "z = x & y   \n",
    "print(z)   "
   ]
  },
  {
   "cell_type": "code",
   "execution_count": 50,
   "id": "efbcb133-adfb-40bf-9665-1cdacdc394c3",
   "metadata": {},
   "outputs": [
    {
     "name": "stdout",
     "output_type": "stream",
     "text": [
      "{'a': 1, 'b': 3, 'c': 4}\n"
     ]
    }
   ],
   "source": [
    "x = {\"a\": 1, \"b\": 2}   \n",
    "y = {\"b\": 3, \"c\": 4}   \n",
    "z = {**x, **y}   \n",
    "print(z) "
   ]
  },
  {
   "cell_type": "code",
   "execution_count": 58,
   "id": "f58f9dcb-7570-452e-87b0-9f29492dd30e",
   "metadata": {},
   "outputs": [
    {
     "ename": "NameError",
     "evalue": "name 'l' is not defined",
     "output_type": "error",
     "traceback": [
      "\u001b[1;31m---------------------------------------------------------------------------\u001b[0m",
      "\u001b[1;31mNameError\u001b[0m                                 Traceback (most recent call last)",
      "Cell \u001b[1;32mIn[58], line 2\u001b[0m\n\u001b[0;32m      1\u001b[0m x \u001b[38;5;241m=\u001b[39m \u001b[38;5;124m\"\u001b[39m\u001b[38;5;124mhello\u001b[39m\u001b[38;5;124m\"\u001b[39m   \n\u001b[1;32m----> 2\u001b[0m x\u001b[38;5;241m.\u001b[39mreplace(\u001b[38;5;124m\"\u001b[39m\u001b[38;5;124ml\u001b[39m\u001b[38;5;124m\"\u001b[39m, \u001b[38;5;124m\"\u001b[39m\u001b[38;5;124mL\u001b[39m\u001b[38;5;124m\"\u001b[39m,l)  \n\u001b[0;32m      3\u001b[0m \u001b[38;5;28mprint\u001b[39m(x)\n",
      "\u001b[1;31mNameError\u001b[0m: name 'l' is not defined"
     ]
    }
   ],
   "source": [
    "x = \"hello\"   \n",
    "x.replace(\"l\", \"L\",l)  \n",
    "print(x)"
   ]
  },
  {
   "cell_type": "code",
   "execution_count": 60,
   "id": "78b90d0b-0188-44f6-8b63-5a171815d6cb",
   "metadata": {},
   "outputs": [
    {
     "ename": "KeyError",
     "evalue": "'address'",
     "output_type": "error",
     "traceback": [
      "\u001b[1;31m---------------------------------------------------------------------------\u001b[0m",
      "\u001b[1;31mKeyError\u001b[0m                                  Traceback (most recent call last)",
      "Cell \u001b[1;32mIn[60], line 2\u001b[0m\n\u001b[0;32m      1\u001b[0m x \u001b[38;5;241m=\u001b[39m {\u001b[38;5;124m\"\u001b[39m\u001b[38;5;124mname\u001b[39m\u001b[38;5;124m\"\u001b[39m: \u001b[38;5;124m\"\u001b[39m\u001b[38;5;124mJohn\u001b[39m\u001b[38;5;124m\"\u001b[39m, \u001b[38;5;124m\"\u001b[39m\u001b[38;5;124mage\u001b[39m\u001b[38;5;124m\"\u001b[39m: \u001b[38;5;241m30\u001b[39m}   \n\u001b[1;32m----> 2\u001b[0m \u001b[38;5;28mprint\u001b[39m(x[\u001b[38;5;124m\"\u001b[39m\u001b[38;5;124maddress\u001b[39m\u001b[38;5;124m\"\u001b[39m])\n",
      "\u001b[1;31mKeyError\u001b[0m: 'address'"
     ]
    }
   ],
   "source": [
    "x = {\"name\": \"John\", \"age\": 30}   \n",
    "print(x[\"address\"])   "
   ]
  },
  {
   "cell_type": "code",
   "execution_count": 62,
   "id": "d776ec1e-ea62-4bf5-9f34-432e31ddacaf",
   "metadata": {},
   "outputs": [
    {
     "name": "stdout",
     "output_type": "stream",
     "text": [
      "{'a', 'c'}\n"
     ]
    }
   ],
   "source": [
    "x = {\"a\", \"b\", \"c\"}   \n",
    "y = x - {\"b\"}   \n",
    "print(y)  "
   ]
  },
  {
   "cell_type": "code",
   "execution_count": 64,
   "id": "6f6ad558-351d-4abe-8b48-9d6b4761c081",
   "metadata": {},
   "outputs": [
    {
     "name": "stdout",
     "output_type": "stream",
     "text": [
      "43\n"
     ]
    }
   ],
   "source": [
    "a=23\n",
    "b=20\n",
    "print(a+b)"
   ]
  },
  {
   "cell_type": "code",
   "execution_count": 2,
   "id": "b6f94226-6e33-4f68-97a3-339825006bad",
   "metadata": {},
   "outputs": [
    {
     "data": {
      "text/plain": [
       "range(0, 10)"
      ]
     },
     "execution_count": 2,
     "metadata": {},
     "output_type": "execute_result"
    }
   ],
   "source": [
    "r = range(0,10)\n",
    "r"
   ]
  },
  {
   "cell_type": "code",
   "execution_count": 4,
   "id": "a5283956-ac75-4179-9523-ba2e3c3c49be",
   "metadata": {},
   "outputs": [
    {
     "data": {
      "text/plain": [
       "[0, 1, 2, 3, 4, 5, 6, 7, 8, 9]"
      ]
     },
     "execution_count": 4,
     "metadata": {},
     "output_type": "execute_result"
    }
   ],
   "source": [
    "list(range(0,10))"
   ]
  },
  {
   "cell_type": "code",
   "execution_count": 6,
   "id": "48cb3119-efc3-4b05-bafe-74f09cdd5a23",
   "metadata": {},
   "outputs": [
    {
     "data": {
      "text/plain": [
       "[0, 1, 2, 3, 4, 5, 6, 7, 8, 9]"
      ]
     },
     "execution_count": 6,
     "metadata": {},
     "output_type": "execute_result"
    }
   ],
   "source": [
    "r1 = list(r)\n",
    "r1"
   ]
  },
  {
   "cell_type": "markdown",
   "id": "3f6e9eb1-2640-455a-be9d-8386891246b0",
   "metadata": {},
   "source": [
    "# Even number from list"
   ]
  },
  {
   "cell_type": "code",
   "execution_count": 10,
   "id": "9c9c72f4-8db1-4c89-a7d7-bd22cba99a34",
   "metadata": {},
   "outputs": [
    {
     "data": {
      "text/plain": [
       "[2, 4, 6, 8]"
      ]
     },
     "execution_count": 10,
     "metadata": {},
     "output_type": "execute_result"
    }
   ],
   "source": [
    "even_numbers=list(range(2,10,2))\n",
    "even_numbers"
   ]
  },
  {
   "cell_type": "markdown",
   "id": "a0b35b7d-cda0-4873-96ca-9b0b50fad639",
   "metadata": {},
   "source": [
    "# Odd numbers from list"
   ]
  },
  {
   "cell_type": "code",
   "execution_count": 12,
   "id": "8fd7156d-4116-4ab0-aa31-40378079a595",
   "metadata": {},
   "outputs": [
    {
     "data": {
      "text/plain": [
       "[1, 3, 5, 7, 9]"
      ]
     },
     "execution_count": 12,
     "metadata": {},
     "output_type": "execute_result"
    }
   ],
   "source": [
    "odd_numbers=list(range(1,10,2))\n",
    "odd_numbers"
   ]
  },
  {
   "cell_type": "markdown",
   "id": "eafa6c30-e95e-40d3-ba06-41ee6b4539b9",
   "metadata": {},
   "source": [
    "# String Indexing"
   ]
  },
  {
   "cell_type": "code",
   "execution_count": 3,
   "id": "9ad9b6a4-01e9-41d3-bd18-9e792fc63e62",
   "metadata": {},
   "outputs": [
    {
     "data": {
      "text/plain": [
       "'hellopython'"
      ]
     },
     "execution_count": 3,
     "metadata": {},
     "output_type": "execute_result"
    }
   ],
   "source": [
    "str = 'hellopython'\n",
    "str"
   ]
  },
  {
   "cell_type": "code",
   "execution_count": 5,
   "id": "053410bd-9c45-4732-8167-820afe001d12",
   "metadata": {},
   "outputs": [
    {
     "name": "stdout",
     "output_type": "stream",
     "text": [
      "h\n"
     ]
    }
   ],
   "source": [
    "print(str[0])"
   ]
  },
  {
   "cell_type": "code",
   "execution_count": 7,
   "id": "8976f3ef-e9f0-4887-a15b-c6259aaca460",
   "metadata": {},
   "outputs": [
    {
     "name": "stdout",
     "output_type": "stream",
     "text": [
      "n\n"
     ]
    }
   ],
   "source": [
    "print(str[-1])"
   ]
  },
  {
   "cell_type": "code",
   "execution_count": 9,
   "id": "e34f2590-93f9-43e5-b548-58a0ad1f7db1",
   "metadata": {},
   "outputs": [
    {
     "name": "stdout",
     "output_type": "stream",
     "text": [
      "hellopython\n"
     ]
    }
   ],
   "source": [
    "print(str[:])"
   ]
  },
  {
   "cell_type": "code",
   "execution_count": 11,
   "id": "4e234d88-a9f6-457b-9b39-5e559a3c4ac3",
   "metadata": {},
   "outputs": [
    {
     "name": "stdout",
     "output_type": "stream",
     "text": [
      "hello\n"
     ]
    }
   ],
   "source": [
    "print(str[0:5])"
   ]
  },
  {
   "cell_type": "code",
   "execution_count": 13,
   "id": "4cf8aeaa-ee4e-4c3c-8fd3-b9ad001546fb",
   "metadata": {},
   "outputs": [
    {
     "name": "stdout",
     "output_type": "stream",
     "text": [
      "python\n"
     ]
    }
   ],
   "source": [
    "print(str[5:])"
   ]
  },
  {
   "cell_type": "markdown",
   "id": "e692cab0-af74-4d83-8556-f0d69d7d9164",
   "metadata": {},
   "source": [
    "# Advanced slice operations"
   ]
  },
  {
   "cell_type": "markdown",
   "id": "b786edd4-f47d-4f41-9018-9f3db38632b5",
   "metadata": {},
   "source": [
    "# reverse printing"
   ]
  },
  {
   "cell_type": "code",
   "execution_count": 17,
   "id": "90dabe4d-2956-4c5e-929f-40c39ef7b0e5",
   "metadata": {},
   "outputs": [
    {
     "name": "stdout",
     "output_type": "stream",
     "text": [
      "nohtypolleh\n"
     ]
    }
   ],
   "source": [
    "print(str[::-1]) "
   ]
  },
  {
   "cell_type": "markdown",
   "id": "e6cc6c04-cb3f-4486-af3e-f6bd3a028027",
   "metadata": {},
   "source": [
    "# skipping the letters"
   ]
  },
  {
   "cell_type": "code",
   "execution_count": 28,
   "id": "6403ff99-4c13-4317-814d-25196ab55c94",
   "metadata": {},
   "outputs": [
    {
     "name": "stdout",
     "output_type": "stream",
     "text": [
      "hellopython\n"
     ]
    }
   ],
   "source": [
    "print(str[:])"
   ]
  },
  {
   "cell_type": "code",
   "execution_count": 30,
   "id": "a0b7496f-4170-4bae-8357-aa4908687ff9",
   "metadata": {},
   "outputs": [
    {
     "name": "stdout",
     "output_type": "stream",
     "text": [
      "nhyolh\n"
     ]
    }
   ],
   "source": [
    "print(str[::-2])#reverse with skipping words"
   ]
  },
  {
   "cell_type": "code",
   "execution_count": 32,
   "id": "33fc2290-aa7e-4185-94a4-938cfc6becdc",
   "metadata": {},
   "outputs": [
    {
     "name": "stdout",
     "output_type": "stream",
     "text": [
      "hloyhn\n"
     ]
    }
   ],
   "source": [
    "print(str[0:11:2])#forward skipping method"
   ]
  },
  {
   "cell_type": "code",
   "execution_count": 34,
   "id": "528485bf-f247-43fd-aa25-4768b34953fd",
   "metadata": {},
   "outputs": [
    {
     "name": "stdout",
     "output_type": "stream",
     "text": [
      "pto\n"
     ]
    }
   ],
   "source": [
    "print(str[5:11:2])"
   ]
  },
  {
   "cell_type": "code",
   "execution_count": null,
   "id": "1bfffab2-8dde-4e85-9522-f144511a93f4",
   "metadata": {},
   "outputs": [],
   "source": []
  }
 ],
 "metadata": {
  "kernelspec": {
   "display_name": "Python 3 (ipykernel)",
   "language": "python",
   "name": "python3"
  },
  "language_info": {
   "codemirror_mode": {
    "name": "ipython",
    "version": 3
   },
   "file_extension": ".py",
   "mimetype": "text/x-python",
   "name": "python",
   "nbconvert_exporter": "python",
   "pygments_lexer": "ipython3",
   "version": "3.12.7"
  }
 },
 "nbformat": 4,
 "nbformat_minor": 5
}
